{
 "cells": [
  {
   "cell_type": "markdown",
   "metadata": {},
   "source": [
    "### En este notebook se pondran los respectivos programas resultados de la culminacion del reto 7"
   ]
  },
  {
   "cell_type": "markdown",
   "metadata": {},
   "source": [
    "Imprimir un listado con los números del 1 al 100 cada uno con su respectivo cuadrado."
   ]
  },
  {
   "cell_type": "code",
   "execution_count": null,
   "metadata": {},
   "outputs": [],
   "source": [
    "#Aqui se define la funcion que hara la lista\n",
    "def numeros_y_cuadrado()->int:\n",
    " #Aqui se crea una lista de los numeros desde 1 hasta 100\n",
    "    for i in range(1,100+1):\n",
    "        #aqui se escribe el numero vigente de la lista, asi como su cuadrado seaparados por un espacio\n",
    "        print(str(i)+\" \"+str(i**2))\n",
    "if __name__==\"__main__\":\n",
    "   #Aqui se llama la funcion\n",
    "   numeros_y_cuadrado()"
   ]
  },
  {
   "cell_type": "markdown",
   "metadata": {},
   "source": [
    "Imprimir un listado con los números impares desde 1 hasta 999 y seguidamente otro listado con los números pares desde 2 hasta 1000."
   ]
  },
  {
   "cell_type": "code",
   "execution_count": 2,
   "metadata": {},
   "outputs": [
    {
     "name": "stdout",
     "output_type": "stream",
     "text": [
      "1 3 5 7 9 11 13 15 17 19 21 23 25 27 29 31 33 35 37 39 41 43 45 47 49 51 53 55 57 59 61 63 65 67 69 71 73 75 77 79 81 83 85 87 89 91 93 95 97 99 101 103 105 107 109 111 113 115 117 119 121 123 125 127 129 131 133 135 137 139 141 143 145 147 149 151 153 155 157 159 161 163 165 167 169 171 173 175 177 179 181 183 185 187 189 191 193 195 197 199 201 203 205 207 209 211 213 215 217 219 221 223 225 227 229 231 233 235 237 239 241 243 245 247 249 251 253 255 257 259 261 263 265 267 269 271 273 275 277 279 281 283 285 287 289 291 293 295 297 299 301 303 305 307 309 311 313 315 317 319 321 323 325 327 329 331 333 335 337 339 341 343 345 347 349 351 353 355 357 359 361 363 365 367 369 371 373 375 377 379 381 383 385 387 389 391 393 395 397 399 401 403 405 407 409 411 413 415 417 419 421 423 425 427 429 431 433 435 437 439 441 443 445 447 449 451 453 455 457 459 461 463 465 467 469 471 473 475 477 479 481 483 485 487 489 491 493 495 497 499 501 503 505 507 509 511 513 515 517 519 521 523 525 527 529 531 533 535 537 539 541 543 545 547 549 551 553 555 557 559 561 563 565 567 569 571 573 575 577 579 581 583 585 587 589 591 593 595 597 599 601 603 605 607 609 611 613 615 617 619 621 623 625 627 629 631 633 635 637 639 641 643 645 647 649 651 653 655 657 659 661 663 665 667 669 671 673 675 677 679 681 683 685 687 689 691 693 695 697 699 701 703 705 707 709 711 713 715 717 719 721 723 725 727 729 731 733 735 737 739 741 743 745 747 749 751 753 755 757 759 761 763 765 767 769 771 773 775 777 779 781 783 785 787 789 791 793 795 797 799 801 803 805 807 809 811 813 815 817 819 821 823 825 827 829 831 833 835 837 839 841 843 845 847 849 851 853 855 857 859 861 863 865 867 869 871 873 875 877 879 881 883 885 887 889 891 893 895 897 899 901 903 905 907 909 911 913 915 917 919 921 923 925 927 929 931 933 935 937 939 941 943 945 947 949 951 953 955 957 959 961 963 965 967 969 971 973 975 977 979 981 983 985 987 989 991 993 995 997 999 \n",
      "\n",
      "2 4 6 8 10 12 14 16 18 20 22 24 26 28 30 32 34 36 38 40 42 44 46 48 50 52 54 56 58 60 62 64 66 68 70 72 74 76 78 80 82 84 86 88 90 92 94 96 98 100 102 104 106 108 110 112 114 116 118 120 122 124 126 128 130 132 134 136 138 140 142 144 146 148 150 152 154 156 158 160 162 164 166 168 170 172 174 176 178 180 182 184 186 188 190 192 194 196 198 200 202 204 206 208 210 212 214 216 218 220 222 224 226 228 230 232 234 236 238 240 242 244 246 248 250 252 254 256 258 260 262 264 266 268 270 272 274 276 278 280 282 284 286 288 290 292 294 296 298 300 302 304 306 308 310 312 314 316 318 320 322 324 326 328 330 332 334 336 338 340 342 344 346 348 350 352 354 356 358 360 362 364 366 368 370 372 374 376 378 380 382 384 386 388 390 392 394 396 398 400 402 404 406 408 410 412 414 416 418 420 422 424 426 428 430 432 434 436 438 440 442 444 446 448 450 452 454 456 458 460 462 464 466 468 470 472 474 476 478 480 482 484 486 488 490 492 494 496 498 500 502 504 506 508 510 512 514 516 518 520 522 524 526 528 530 532 534 536 538 540 542 544 546 548 550 552 554 556 558 560 562 564 566 568 570 572 574 576 578 580 582 584 586 588 590 592 594 596 598 600 602 604 606 608 610 612 614 616 618 620 622 624 626 628 630 632 634 636 638 640 642 644 646 648 650 652 654 656 658 660 662 664 666 668 670 672 674 676 678 680 682 684 686 688 690 692 694 696 698 700 702 704 706 708 710 712 714 716 718 720 722 724 726 728 730 732 734 736 738 740 742 744 746 748 750 752 754 756 758 760 762 764 766 768 770 772 774 776 778 780 782 784 786 788 790 792 794 796 798 800 802 804 806 808 810 812 814 816 818 820 822 824 826 828 830 832 834 836 838 840 842 844 846 848 850 852 854 856 858 860 862 864 866 868 870 872 874 876 878 880 882 884 886 888 890 892 894 896 898 900 902 904 906 908 910 912 914 916 918 920 922 924 926 928 930 932 934 936 938 940 942 944 946 948 950 952 954 956 958 960 962 964 966 968 970 972 974 976 978 980 982 984 986 988 990 992 994 996 998 1000 "
     ]
    }
   ],
   "source": [
    "#Aqui se define la funcion que creara la lista de numeros impares\n",
    "def numeros_impares()->int:\n",
    "        #Aqui se crea una lista de los numeros desde 1 hasta 1000 con saltos de dos para tomar los impares\n",
    "        for i in range(1, 1000+1, 2):\n",
    "                #Aqui se escribe el numero vigente y se separa entre numero con espacio simple\n",
    "                print(i, end=\" \")\n",
    "#Aqui se define la funcion que creara la lista de numeros pares\n",
    "def numeros_pares()->int:\n",
    "        #Aqui se crea una lista de los numeros desde 2 hasta 1000 con saltos de dos para tomar los pares\n",
    "        for i in range(2, 1000+1, 2):\n",
    "            #Aqui se escribe el numero vigente y se separa entre numero con espacio simple\n",
    "            print(i, end=\" \")\n",
    "#Aqui se define la funcion que recopila ambas listas y las distingue\n",
    "def listas()->int:\n",
    "        numeros_impares()\n",
    "        #Aqui se hace un salto de linea para distinguir entre ambas listas\n",
    "        print(\"\\n\")\n",
    "        numeros_pares()\n",
    "\n",
    "if __name__==\"__main__\":\n",
    "        #Aqui se llama la funcion general\n",
    "        listas()"
   ]
  },
  {
   "cell_type": "markdown",
   "metadata": {},
   "source": [
    "Imprimir los números pares en forma descendente hasta 2 que son menores o iguales a un número natural n ≥ 2 dado"
   ]
  },
  {
   "cell_type": "code",
   "execution_count": null,
   "metadata": {},
   "outputs": [],
   "source": [
    "#Aqui se define la funcion que dara la lista de numeros pares descendientes desde el numero que ingreso el usuario hasta 2\n",
    "def pares(n:int)->int:\n",
    "    #Aqui se revisa que el tope de la lista sea par para que se puedan dar saltos \"de a dos\" asi simplificando el trabajo (o como dije en el repositorio \"hardcodeando\", sigo pensando que aunque este sea mas optimizado, el otro permite mas control si se necesita editar)\n",
    "    if n%2!=0 : n-=1\n",
    "    #Aqui se crea una lista desde el numero par mas cercano al numero ingresado por el usuario (cercano desde 0) hasta el numero 2 con saltos de 2 negativo, asi permitiendo que sea descendente\n",
    "    for i in range(n, 2-1, -2):\n",
    "        #Aqui se escribe el numero vigente y se separa cada numero por un espacio simple\n",
    "        print(i, end=\" \")\n",
    "\n",
    "if __name__==\"__main__\":\n",
    "    #Aqui se crea una variable que contendra el numero tope de la lista (en este caso el priemro) que sera ingresado por el usuario\n",
    "    n:int=int(input(\"Ingrese el numero maximo de la lista de numeros pares: \"))\n",
    "    pares(n)"
   ]
  },
  {
   "cell_type": "markdown",
   "metadata": {},
   "source": [
    "Imprimir los números de 1 hasta un número natural n dado, cada uno con su respectivo factorial"
   ]
  },
  {
   "cell_type": "code",
   "execution_count": 20,
   "metadata": {},
   "outputs": [
    {
     "name": "stdout",
     "output_type": "stream",
     "text": [
      "1 1\n",
      "2 2\n",
      "3 6\n",
      "4 24\n",
      "5 120\n",
      "6 720\n",
      "7 5040\n",
      "8 40320\n",
      "9 362880\n",
      "10 3628800\n",
      "11 39916800\n",
      "12 479001600\n",
      "13 6227020800\n",
      "14 87178291200\n",
      "15 1307674368000\n",
      "16 20922789888000\n",
      "17 355687428096000\n",
      "18 6402373705728000\n",
      "19 121645100408832000\n",
      "20 2432902008176640000\n",
      "21 51090942171709440000\n",
      "22 1124000727777607680000\n",
      "23 25852016738884976640000\n",
      "24 620448401733239439360000\n",
      "25 15511210043330985984000000\n",
      "26 403291461126605635584000000\n",
      "27 10888869450418352160768000000\n",
      "28 304888344611713860501504000000\n",
      "29 8841761993739701954543616000000\n",
      "30 265252859812191058636308480000000\n",
      "31 8222838654177922817725562880000000\n",
      "32 263130836933693530167218012160000000\n",
      "33 8683317618811886495518194401280000000\n",
      "34 295232799039604140847618609643520000000\n",
      "35 10333147966386144929666651337523200000000\n",
      "36 371993326789901217467999448150835200000000\n",
      "37 13763753091226345046315979581580902400000000\n",
      "38 523022617466601111760007224100074291200000000\n",
      "39 20397882081197443358640281739902897356800000000\n",
      "40 815915283247897734345611269596115894272000000000\n",
      "41 33452526613163807108170062053440751665152000000000\n",
      "42 1405006117752879898543142606244511569936384000000000\n",
      "43 60415263063373835637355132068513997507264512000000000\n",
      "44 2658271574788448768043625811014615890319638528000000000\n",
      "45 119622220865480194561963161495657715064383733760000000000\n",
      "46 5502622159812088949850305428800254892961651752960000000000\n",
      "47 258623241511168180642964355153611979969197632389120000000000\n",
      "48 12413915592536072670862289047373375038521486354677760000000000\n",
      "49 608281864034267560872252163321295376887552831379210240000000000\n",
      "50 30414093201713378043612608166064768844377641568960512000000000000\n",
      "51 1551118753287382280224243016469303211063259720016986112000000000000\n",
      "52 80658175170943878571660636856403766975289505440883277824000000000000\n",
      "53 4274883284060025564298013753389399649690343788366813724672000000000000\n",
      "54 230843697339241380472092742683027581083278564571807941132288000000000000\n",
      "55 12696403353658275925965100847566516959580321051449436762275840000000000000\n",
      "56 710998587804863451854045647463724949736497978881168458687447040000000000000\n",
      "57 40526919504877216755680601905432322134980384796226602145184481280000000000000\n",
      "58 2350561331282878571829474910515074683828862318181142924420699914240000000000000\n",
      "59 138683118545689835737939019720389406345902876772687432540821294940160000000000000\n",
      "60 8320987112741390144276341183223364380754172606361245952449277696409600000000000000\n",
      "61 507580213877224798800856812176625227226004528988036003099405939480985600000000000000\n",
      "62 31469973260387937525653122354950764088012280797258232192163168247821107200000000000000\n",
      "63 1982608315404440064116146708361898137544773690227268628106279599612729753600000000000000\n",
      "64 126886932185884164103433389335161480802865516174545192198801894375214704230400000000000000\n",
      "65 8247650592082470666723170306785496252186258551345437492922123134388955774976000000000000000\n",
      "66 544344939077443064003729240247842752644293064388798874532860126869671081148416000000000000000\n",
      "67 36471110918188685288249859096605464427167635314049524593701628500267962436943872000000000000000\n",
      "68 2480035542436830599600990418569171581047399201355367672371710738018221445712183296000000000000000\n",
      "69 171122452428141311372468338881272839092270544893520369393648040923257279754140647424000000000000000\n",
      "70 11978571669969891796072783721689098736458938142546425857555362864628009582789845319680000000000000000\n",
      "71 850478588567862317521167644239926010288584608120796235886430763388588680378079017697280000000000000000\n",
      "72 61234458376886086861524070385274672740778091784697328983823014963978384987221689274204160000000000000000\n",
      "73 4470115461512684340891257138125051110076800700282905015819080092370422104067183317016903680000000000000000\n",
      "74 330788544151938641225953028221253782145683251820934971170611926835411235700971565459250872320000000000000000\n",
      "75 24809140811395398091946477116594033660926243886570122837795894512655842677572867409443815424000000000000000000\n",
      "76 1885494701666050254987932260861146558230394535379329335672487982961844043495537923117729972224000000000000000000\n",
      "77 145183092028285869634070784086308284983740379224208358846781574688061991349156420080065207861248000000000000000000\n",
      "78 11324281178206297831457521158732046228731749579488251990048962825668835325234200766245086213177344000000000000000000\n",
      "79 894618213078297528685144171539831652069808216779571907213868063227837990693501860533361810841010176000000000000000000\n",
      "80 71569457046263802294811533723186532165584657342365752577109445058227039255480148842668944867280814080000000000000000000\n",
      "81 5797126020747367985879734231578109105412357244731625958745865049716390179693892056256184534249745940480000000000000000000\n",
      "82 475364333701284174842138206989404946643813294067993328617160934076743994734899148613007131808479167119360000000000000000000\n",
      "83 39455239697206586511897471180120610571436503407643446275224357528369751562996629334879591940103770870906880000000000000000000\n",
      "84 3314240134565353266999387579130131288000666286242049487118846032383059131291716864129885722968716753156177920000000000000000000\n",
      "85 281710411438055027694947944226061159480056634330574206405101912752560026159795933451040286452340924018275123200000000000000000000\n",
      "86 24227095383672732381765523203441259715284870552429381750838764496720162249742450276789464634901319465571660595200000000000000000000\n",
      "87 2107757298379527717213600518699389595229783738061356212322972511214654115727593174080683423236414793504734471782400000000000000000000\n",
      "88 185482642257398439114796845645546284380220968949399346684421580986889562184028199319100141244804501828416633516851200000000000000000000\n",
      "89 16507955160908461081216919262453619309839666236496541854913520707833171034378509739399912570787600662729080382999756800000000000000000000\n",
      "90 1485715964481761497309522733620825737885569961284688766942216863704985393094065876545992131370884059645617234469978112000000000000000000000\n",
      "91 135200152767840296255166568759495142147586866476906677791741734597153670771559994765685283954750449427751168336768008192000000000000000000000\n",
      "92 12438414054641307255475324325873553077577991715875414356840239582938137710983519518443046123837041347353107486982656753664000000000000000000000\n",
      "93 1156772507081641574759205162306240436214753229576413535186142281213246807121467315215203289516844845303838996289387078090752000000000000000000000\n",
      "94 108736615665674308027365285256786601004186803580182872307497374434045199869417927630229109214583415458560865651202385340530688000000000000000000000\n",
      "95 10329978488239059262599702099394727095397746340117372869212250571234293987594703124871765375385424468563282236864226607350415360000000000000000000000\n",
      "96 991677934870949689209571401541893801158183648651267795444376054838492222809091499987689476037000748982075094738965754305639874560000000000000000000000\n",
      "97 96192759682482119853328425949563698712343813919172976158104477319333745612481875498805879175589072651261284189679678167647067832320000000000000000000000\n",
      "98 9426890448883247745626185743057242473809693764078951663494238777294707070023223798882976159207729119823605850588608460429412647567360000000000000000000000\n",
      "99 933262154439441526816992388562667004907159682643816214685929638952175999932299156089414639761565182862536979208272237582511852109168640000000000000000000000\n",
      "100 93326215443944152681699238856266700490715968264381621468592963895217599993229915608941463976156518286253697920827223758251185210916864000000000000000000000000\n"
     ]
    }
   ],
   "source": [
    "#Aqui se define la funcion que creara la lista de numeros y sus factoriales\n",
    "def factoriales(n:int)->int:\n",
    "    #Aqui se crea la lista de i's que recorrera los numeros desde 1 hasta el numero ingresado por el usuario\n",
    "    for i in range(1,n+1):\n",
    "        #Aqui se define la variable que cargara el valor del factorial de cada numero, reiniciadose a valor 1 cada vez que se cambie de numero\n",
    "        factorial:int=1\n",
    "        #Aqui se crea la lista de j's que recorrera desde 1 hasta el numero vigente de i's\n",
    "        for j in range (1,i+1):\n",
    "            #Esto calcula el factorial, multiplicando por cada numero desde 1 al numero vigente de j's\n",
    "            factorial*=j\n",
    "        #Aqui se escribe cada numero \"i\" con su factorial\n",
    "        print(str(i)+\" \"+str(factorial))\n",
    "if __name__==\"__main__\":\n",
    "    #Aqui se define la variaable que tendra el tope de la funcion\n",
    "    n:int=int(input(\"Ingrese el numero tope de la lista: \"))\n",
    "    #Aqui se llama la funcion factoriales\n",
    "    factoriales(n)"
   ]
  },
  {
   "cell_type": "markdown",
   "metadata": {},
   "source": [
    "Calcular el valor de 2 elevado a la potencia n usando ciclos for."
   ]
  },
  {
   "cell_type": "code",
   "execution_count": null,
   "metadata": {},
   "outputs": [],
   "source": [
    "#Aqui se define la funcion que devolvera el 2 elevado al numero que ingrese el usuario\n",
    "def potencia(n:int):\n",
    "    return 2**n\n",
    "if __name__==\"__main__\":\n",
    "    #Aqui se define la variable que ingresa el usuario y \"potenciara\" al numero 2\n",
    "    n:int=int(input(\"Ingrese el numero al cual elevar al numero dos: \"))\n",
    "    #Aqui se imprimira el numero 2 elevado al numero del usuario\n",
    "    print(potencia(n))"
   ]
  },
  {
   "cell_type": "markdown",
   "metadata": {},
   "source": [
    "Leer un número natural n, leer otro dato de tipo real x y calcular x^n usando ciclos for. Disclaimer: Trate de no utilizar el operador de potencia ()."
   ]
  },
  {
   "cell_type": "code",
   "execution_count": null,
   "metadata": {},
   "outputs": [],
   "source": [
    "#Aqui se define la funcion que calculara una forma de elevar un numero sobre otro sin usar el operador () y la escribira\n",
    "def elevar(n:int,x:float)->float:\n",
    "    #Aqui se crea la variable que recibira el resultado de la potenciacion de ambos numeros\n",
    "    resultado:float=1\n",
    "    #Aqui se crea la lista de numeros desde 0 hasta n-1, o, en otras palabras, la cantidad de veces que se elevara algo, o en otras palabras, se multiplicara a si mismo\n",
    "    for i in range(n):\n",
    "        #Esto calculara eventualmente la potenciacion multiplicando un numero 1 (\"inerte\" para la operacion), por si mismo la cantidad de veces solicitada por el usuario\n",
    "        resultado*=x\n",
    "    #Aqui se escribe la potenciacion de ambos numeros\n",
    "    print(resultado)\n",
    "\n",
    "if __name__==\"__main__\":\n",
    "    #Aqui se crea la variable que recibe el numero que sera potenciado\n",
    "    x:float=float(input(\"Ingrese el numero a elevar: \"))\n",
    "    #Aqui se crea la variable que recibe el numero que potenciara\n",
    "    n:int=int(input(\"Ingrese el numero que elevara al anterior: \"))\n",
    "    #Aqui se llama la funcion elevar\n",
    "    elevar(n,x)"
   ]
  },
  {
   "cell_type": "markdown",
   "metadata": {},
   "source": [
    "Diseñe un programa que muestre las tablas de multiplicar del 1 al 9."
   ]
  },
  {
   "cell_type": "code",
   "execution_count": null,
   "metadata": {},
   "outputs": [],
   "source": [
    "if __name__==\"__main__\":\n",
    "\n",
    "    #Aqui se crea la lista de i's que recorrera los numeros (como tablas) del 1 al 9\n",
    "    for i in range(1,10):\n",
    "        #Aqui se crea la lista de j's que recorrera los numeros (como multiplicadores) del 1 al 10\n",
    "        for j in range (1,11):\n",
    "            #Aqui se pone la condicion de que antes de iniciar cualquier proceso, se revise estar \"arriba\" de la tabla\n",
    "            if j==1:\n",
    "                #Aqui luego de verificar estar \"arriba\" de la tabla, se escribe el tope de la \"caja\" en la que quiero dejar las tablas, para darle organizacion\n",
    "                print(\"+-------------------------------+\")\n",
    "            #Aqui se imprime la primera parte de la tabla, poniendo los valores del numero al que corresponde la tabla, siguiendo con cierta organizacion;\n",
    "            #Tambien se le deja un fin de linea nulo, para que no haya salto de linea y no desorganize el resto\n",
    "            print(\"|   \"+str(i)+\"  |  x  |  \",end=\"\")\n",
    "            #Aqui se comprueba que el numero que multiplica al \"independiente\" o numero i, no tenga 2 digitos, porque sino, desorganizaria el cuadro;\n",
    "            #Comprobada esa condicion, se escribe un espacio para completar el espacio que si tuviera 2 digitos, seria cubierto por el hecho de tener 2 digitos\n",
    "            #De igual manera se deja el fin de linea nulo para que no haya colision\n",
    "            if j<10:print(\" \",end=\"\")\n",
    "            #Aqui se imprime el numero que multiplicara al \"independiente\" o numero i, de igual forma con fin de linea nulo\n",
    "            print(j,end=\"\")\n",
    "            #Aqui se imprime el complemento del cuadro antes del resultado\n",
    "            print(\"  |  =  | \",end=\"\")\n",
    "            #Aqui se comprueba nuevamente que el numero resultado de la multiplicacion no tenga 2 digitos y en caso de cumplirse se \"rellenara el espacio\"\n",
    "            #Finalizacion de linea tambien con un valor nulo o vacio\n",
    "            if (i*j)<10:print(\" \",end=\"\")\n",
    "            #Aqui se imprime el resultado de la multiplicacion con fin de linea nulo para evitar colision\n",
    "            print(i*j,end=\"\")\n",
    "            #Aqui se imrpime el final del cuadrado para que mantengra estructura y organizacion\n",
    "            print(\"  |\")\n",
    "            #Aqui se comprueba al igual que al inicio, que se este en un lado del cuadrado, en este caso, el inferior de todo el cuadrado, donde se finaliza\n",
    "            #con la estructura que ya venia planteada para el \"cuadrado\" y un salto de linea para que se distigan las tablas\n",
    "            if j==10:\n",
    "                print(\"+-------------------------------+\\n\")"
   ]
  },
  {
   "cell_type": "markdown",
   "metadata": {},
   "source": [
    "Diseñar una función que permita calcular una aproximación de la función exponencial alrededor de 0 para cualquier valor x (real), utilizando los primeros n términos de la serie de Taylor. Nota: use math para traer la función exponencial y mostrar la diferencia entre el valor real y la aproximación. \n",
    "e^x≈exp(x,n)≈∑(i=0,n) (x^i/i!)"
   ]
  },
  {
   "cell_type": "code",
   "execution_count": 13,
   "metadata": {},
   "outputs": [
    {
     "name": "stdout",
     "output_type": "stream",
     "text": [
      "El valor real es: 2.718281828459045\n",
      "El valor de la aproximacion es: 2.7182818011463845\n",
      "La diferencia entre ambos es: 2.7312660577649694e-08\n"
     ]
    }
   ],
   "source": [
    "#Aqui se llama a colacion la libreria basica de python \"math\" con el fin de usar algunas funciones de esta\n",
    "import math\n",
    "if __name__==\"__main__\":\n",
    "    #Aqui se define la variable que tomara el valor de la x en las distintas ecuaciones y se solicita al usuario ingresarla\n",
    "    x:float=float(input(\"Ingrese el valor x de la ecuacion: \"))\n",
    "    #Aqui se define la variable que tomara el valor del indice final de la suma y se pide al usuario que lo ingrese\n",
    "    n:int=int(input(\"Ingrese la cantidad de valores a tomar en cuenta para la sumatoria: \"))\n",
    "    #Aqui se crea la variable que tomara los valores de la sumatoria uno por uno y los sumara, se inicia en 0 para que no haya conflictos con anteriores procesos\n",
    "    sumatoria:float=0\n",
    "    #Aqui se crea el for que  recorrera todos los indices de la sumatoria, desde el 0 hasta el numero ingresado por el usuario\n",
    "    for i in range(n+1):\n",
    "        #Aqui se suma a la variable sumatoria, la formula de aproximacion a e^x, o la seria de Taylor (en los primeros n valores)\n",
    "        sumatoria+=(x**i)/math.factorial(i)\n",
    "    #Aqui se escribe el valor de la operacion integrada en math de python, para tener referencia sobre el valor real\n",
    "    print(\"El valor real es: \"+str(math.exp(x)))\n",
    "    #Aqui se escribe el valor de la operacion de aproximacion obtenio con la serie de Taylor\n",
    "    print(\"El valor de la aproximacion es: \"+str(sumatoria))\n",
    "    #Aqui se crea la variable que tomara la diferencia entre el valor real, y la aproximacion que hicimos, asi comaparandolas\n",
    "    diferencia:float= 0\n",
    "    #Aqui se crea una condicional sobre si la diferencia entre el resultado real y la aproximacion es negativa\n",
    "    if (math.exp(x)-sumatoria)<0:\n",
    "        #Si se cumplea la condicional anterior (es decir que la diferencia sea negativa), se igualara a la variable diferencia (que estaba en 0 antes de esto) pero de manera negativa (o se le restaria en otras palabras), con el fin de que la diferencia la escriba de manera positiva\n",
    "        diferencia= -(math.exp(x)-sumatoria)\n",
    "    #En caso de que la condicion anterior no se cumpla (es decir que la diferencia sea positiva) hara la siguiente tarea\n",
    "    else:\n",
    "        #Si se cumplea la condicional anterior (es decir que la diferencia sea posotiva o 0), se igualara a la variable diferencia (que estaba en 0 antes de esto) pero de manera negativa (o se le restaria en otras palabras), con el fin de que la diferencia la escriba de manera positiva\n",
    "        diferencia= math.exp(x)-sumatoria \n",
    "    #Aqui se escribe la diferencia entre el valor real de e^x y la aproximacion que hicimos\n",
    "    print(\"La diferencia entre ambos es: \"+str(diferencia))"
   ]
  },
  {
   "cell_type": "markdown",
   "metadata": {},
   "source": [
    "Diseñar una función que permita calcular una aproximación de la función seno alrededor de 0 para cualquier valor x (real), utilizando los primeros n términos de la serie de Maclaurin. Nota: use math para traer la función seno y mostrar la diferencia entre el valor real y la aproximación. \n",
    "sin(x)≈sin(x,n)≈∑(i=0,n) (((−1)^i)((x^(2i+1))/(2i+1)!))"
   ]
  },
  {
   "cell_type": "code",
   "execution_count": 18,
   "metadata": {},
   "outputs": [
    {
     "name": "stdout",
     "output_type": "stream",
     "text": [
      "El valor real es: -0.9589242746631385\n",
      "El valor de la aproximacion es: -0.9589238320910018\n",
      "La diferencia entre ambos es: 4.4257213660525707e-07\n"
     ]
    }
   ],
   "source": [
    "#Aqui se importa la libreria basica de python math para usar algunas de sus funciones\n",
    "import math\n",
    "if __name__==\"__main__\":\n",
    "    #Aqui se crea la variable que tomara el valor x de las ecuaciones y se le pide al usuario que lo ingrese    \n",
    "    x:float=float(input(\"Ingrese el valor de la variable x en la sumatoria: \"))\n",
    "    #Aqui se crea la variable que tomara el valor del indice mas alto que tendra la sumatoria\n",
    "    n:int=int(input(\"Ingrese la cantidad de valores a tomar en cuenta en la sumatoria: \"))\n",
    "    #Aqui se crea la variable que tomara cada valor de la sumatoria y lo ira sumando uno a uno a si mismo, se inicializa en 0 puesto que asi se evita conflicto con anteriores operaciones\n",
    "    sumatoria:float=0    \n",
    "    #Aqui se crea la lista que recorrera los indices desde el 0 hasta el numero que el usuario ingrese, que seran los indices de la sumatoria\n",
    "    for i in range(n+1):\n",
    "        #Aqui se suma a la variable sumatoria el valor de la ecuacion de la sumatoria con los valores respectivos a cada iteracion de la ecuacion \n",
    "        sumatoria+=((((-1)**i)*(x**(2*i+1)))/(math.factorial((2*i)+1)))\n",
    "    #Aqui se escribe el valor real de sen de x con una funcion propia de la libreria math    \n",
    "    print(\"El valor real es: \"+str(math.sin(x)))\n",
    "    #Aqui se escribe el valor de la aproximacion que hicimos\n",
    "    print(\"El valor de la aproximacion es: \"+str(sumatoria))\n",
    "    #Aqui se crea la variable que recibira la diferencia entre ambos (resta), el valor real y el valor aproximado, iniciado en 0 nuevamente para evitar conflictos\n",
    "    diferencia:float= 0\n",
    "    #Aqui se crea una condicional que verifica si la resta entre el valor real y el aproximado es negativa\n",
    "    if (math.sin(x)-sumatoria)<0:\n",
    "        #Si se cumple la condicion anterior se le da el valor a diferencia del valor negativo de la resta del valor real y la aproximacion (asi teniendolo en cuenta como positivo al final de cuentas)\n",
    "        diferencia= -(math.sin(x)-sumatoria)\n",
    "        #Sí no se cumple la condicion anterior se hara la siguiente tarea \n",
    "    else:\n",
    "        #Se le da el valor de la resta entre el valor real y la aproximacion\n",
    "        diferencia= math.sin(x)-sumatoria\n",
    "    #Aqui se escribe la diferencia entre ambos resultados, asi comparandolos10\n",
    "    print(\"La diferencia entre ambos es: \"+str(diferencia))"
   ]
  }
 ],
 "metadata": {
  "kernelspec": {
   "display_name": "Python 3",
   "language": "python",
   "name": "python3"
  },
  "language_info": {
   "codemirror_mode": {
    "name": "ipython",
    "version": 3
   },
   "file_extension": ".py",
   "mimetype": "text/x-python",
   "name": "python",
   "nbconvert_exporter": "python",
   "pygments_lexer": "ipython3",
   "version": "3.10.11"
  }
 },
 "nbformat": 4,
 "nbformat_minor": 2
}
